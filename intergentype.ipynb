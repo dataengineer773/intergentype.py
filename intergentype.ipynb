{
 "cells": [
  {
   "cell_type": "code",
   "execution_count": 1,
   "id": "47bcda34-1aad-4846-89cc-140b0e9a637f",
   "metadata": {},
   "outputs": [],
   "source": [
    "from collections.abc import Iterator\n",
    "from keyword import kwlist\n",
    "from typing  import TYPE_CHECKING"
   ]
  },
  {
   "cell_type": "code",
   "execution_count": 2,
   "id": "c09eabc5-f12a-452c-b87f-a12e9009040f",
   "metadata": {},
   "outputs": [],
   "source": [
    "short_kw = (k for k in kwlist if len(k) < 5)"
   ]
  },
  {
   "cell_type": "code",
   "execution_count": 3,
   "id": "3dd83335-a28d-44ec-bb89-7cf22ffd7784",
   "metadata": {},
   "outputs": [],
   "source": [
    "if TYPE_CHECKING:\n",
    "    reveal_type(short_kw)"
   ]
  },
  {
   "cell_type": "code",
   "execution_count": 4,
   "id": "e9b6f45b-7f0d-4122-903a-03ff69133ffc",
   "metadata": {},
   "outputs": [],
   "source": [
    "long_kw: Iterator[str] = (k for k in  kwlist if len(k) >= 4)"
   ]
  },
  {
   "cell_type": "code",
   "execution_count": 5,
   "id": "8b4faa5f-7ea3-47a3-b8f4-d0cfaa6393d0",
   "metadata": {},
   "outputs": [],
   "source": [
    "if TYPE_CHECKING:\n",
    "    reveal_type(long_kw)"
   ]
  },
  {
   "cell_type": "code",
   "execution_count": null,
   "id": "36df686e-a32c-403a-abe0-76da92f91a66",
   "metadata": {},
   "outputs": [],
   "source": []
  }
 ],
 "metadata": {
  "kernelspec": {
   "display_name": "Python 3 (ipykernel)",
   "language": "python",
   "name": "python3"
  },
  "language_info": {
   "codemirror_mode": {
    "name": "ipython",
    "version": 3
   },
   "file_extension": ".py",
   "mimetype": "text/x-python",
   "name": "python",
   "nbconvert_exporter": "python",
   "pygments_lexer": "ipython3",
   "version": "3.12.3"
  }
 },
 "nbformat": 4,
 "nbformat_minor": 5
}
